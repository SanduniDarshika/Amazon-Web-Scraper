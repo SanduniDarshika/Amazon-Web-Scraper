{
 "cells": [
  {
   "cell_type": "code",
   "execution_count": 35,
   "id": "c1e4e0fa-4cff-4e49-838d-0ad0ec8e6531",
   "metadata": {},
   "outputs": [],
   "source": [
    "# import libraries \n",
    "\n",
    "from bs4 import BeautifulSoup\n",
    "import requests\n",
    "import time\n",
    "import datetime\n",
    "\n",
    "import smtplib\n"
   ]
  },
  {
   "cell_type": "code",
   "execution_count": 39,
   "id": "847112a6-da0d-4e23-b83e-acdad116b0d0",
   "metadata": {},
   "outputs": [
    {
     "name": "stdout",
     "output_type": "stream",
     "text": [
      "\n",
      "             Hillbilly Elegy\n",
      "            \n",
      "\n",
      "                96,133 ratings\n",
      "               \n"
     ]
    }
   ],
   "source": [
    "# Connect to Website and pull in data\n",
    "\n",
    "URL ='https://www.amazon.com/Hillbilly-Elegy-Memoir-Family-Culture/dp/0062300555/ref=zg_d_sccl_2/135-6828052-8859468?pd_rd_w=3VzW2&content-id=amzn1.sym.193afb92-0c19-4833-86f8-850b5ba40291&pf_rd_p=193afb92-0c19-4833-86f8-850b5ba40291&pf_rd_r=ZSSA3ZBJ2PMEBEM7XJSQ&pd_rd_wg=YzqA8&pd_rd_r=42a204c3-ef9b-4a33-a7b4-cca00fb66866&pd_rd_i=0062300555&psc=1' \n",
    "headers = {\"User-Agent\": \"Mozilla/5.0 (Windows NT 10.0; Win64; x64) AppleWebKit/537.36 (KHTML, like Gecko) Chrome/126.0.0.0 Safari/537.36 Edg/126.0.0.0\", \"Accept-Encoding\":\"gzip, deflate\", \"Accept\":\"text/html,application/xhtml+xml,application/xml;q=0.9,*/*;q=0.8\", \"DNT\":\"1\",\"Connection\":\"close\", \"Upgrade-Insecure-Requests\":\"1\"}\n",
    "\n",
    "page = requests.get(URL,headers=headers)\n",
    "\n",
    "soup1 = BeautifulSoup(page.content, \"html.parser\")\n",
    "\n",
    "soup2 = BeautifulSoup(soup1.prettify(), \"html.parser\")\n",
    "\n",
    "title = soup2.find(id='productTitle').get_text()\n",
    "rating=soup2.find(id='acrCustomerReviewText').get_text()\n",
    "\n",
    "print(title)\n",
    "print(rating)\n"
   ]
  },
  {
   "cell_type": "code",
   "execution_count": 43,
   "id": "024f06fe-973b-4113-86c3-940165d7bd3f",
   "metadata": {},
   "outputs": [
    {
     "name": "stdout",
     "output_type": "stream",
     "text": [
      "Hillbilly Elegy\n",
      "6,133 ratings\n"
     ]
    }
   ],
   "source": [
    "# Clean up the data a little bit\n",
    "\n",
    "rating = rating.strip()[1:]\n",
    "title = title.strip()\n",
    "\n",
    "print(title)\n",
    "print(rating)\n"
   ]
  },
  {
   "cell_type": "code",
   "execution_count": 45,
   "id": "ac7d8986-3d18-4972-a6d1-fd32bab39919",
   "metadata": {},
   "outputs": [
    {
     "name": "stdout",
     "output_type": "stream",
     "text": [
      "2024-07-17\n"
     ]
    }
   ],
   "source": [
    "# Create a Timestamp for your output to track when data was collected\n",
    "\n",
    "import datetime\n",
    "\n",
    "today = datetime.date.today()\n",
    "\n",
    "print(today)\n"
   ]
  },
  {
   "cell_type": "code",
   "execution_count": 67,
   "id": "0309c4f2-0223-4c66-b309-014ed31338ce",
   "metadata": {},
   "outputs": [
    {
     "name": "stdout",
     "output_type": "stream",
     "text": [
      "Data Whisperer - Data Scientist Data Analyst T-Shirt\n"
     ]
    }
   ],
   "source": [
    "title = title.strip()\n",
    "\n",
    "print(title)"
   ]
  },
  {
   "cell_type": "code",
   "execution_count": 47,
   "id": "bdca653f-03c5-452e-a98a-da877eb3b8dd",
   "metadata": {},
   "outputs": [],
   "source": [
    "# Create CSV and write headers and data into the file\n",
    "\n",
    "import csv \n",
    "\n",
    "header = ['Title','rating', 'Date']\n",
    "data = [title,rating, today]\n",
    "\n",
    "\n",
    "with open('AmazonWebScraperDataset.csv', 'w', newline='', encoding='UTF8') as f:\n",
    "    writer = csv.writer(f)\n",
    "    writer.writerow(header)\n",
    "    writer.writerow(data)\n",
    "    "
   ]
  },
  {
   "cell_type": "code",
   "execution_count": 55,
   "id": "4b857aac-a3f4-4f0f-a2d8-42ed7989d1a4",
   "metadata": {},
   "outputs": [
    {
     "name": "stdout",
     "output_type": "stream",
     "text": [
      "             Title rating       Date\n",
      "0  Hillbilly Elegy  6,133  7/17/2024\n",
      "1   A Glass Castle  42547  7/18/2024\n"
     ]
    }
   ],
   "source": [
    "import pandas as pd\n",
    "\n",
    "df = pd.read_csv(r'C:\\Users\\darshi\\AmazonWebScraperDataset.csv')\n",
    "\n",
    "print(df)"
   ]
  },
  {
   "cell_type": "code",
   "execution_count": null,
   "id": "18120c40-43ae-4605-86bd-d3d981324972",
   "metadata": {},
   "outputs": [],
   "source": []
  },
  {
   "cell_type": "code",
   "execution_count": null,
   "id": "3e80f88b-653b-48d9-8344-7eeffe7d9e5b",
   "metadata": {},
   "outputs": [],
   "source": []
  },
  {
   "cell_type": "code",
   "execution_count": null,
   "id": "0754c736-dc74-49e5-aab8-94224e48e1f0",
   "metadata": {},
   "outputs": [],
   "source": []
  }
 ],
 "metadata": {
  "kernelspec": {
   "display_name": "Python 3 (ipykernel)",
   "language": "python",
   "name": "python3"
  },
  "language_info": {
   "codemirror_mode": {
    "name": "ipython",
    "version": 3
   },
   "file_extension": ".py",
   "mimetype": "text/x-python",
   "name": "python",
   "nbconvert_exporter": "python",
   "pygments_lexer": "ipython3",
   "version": "3.12.4"
  }
 },
 "nbformat": 4,
 "nbformat_minor": 5
}
